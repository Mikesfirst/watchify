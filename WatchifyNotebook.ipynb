{
  "nbformat": 4,
  "nbformat_minor": 0,
  "metadata": {
    "colab": {
      "provenance": []
    },
    "kernelspec": {
      "name": "python3",
      "display_name": "Python 3"
    },
    "language_info": {
      "name": "python"
    }
  },
  "cells": [
    {
      "cell_type": "markdown",
      "source": [
        "# Watchify\n",
        "\n",
        "- ## Watchify is a unique Flask web application that connects your Spotify listening history within the past 30 days with tailored movie and TV show recommendations. Immerse in the personalized visual experience, understanding your music preferences and exploring related cinematic suggestions.\n",
        "- ## This notebook contains snippets of code used to create Watchify as well as brief explanations in regards to the code.\n",
        "- ## Download everything in the \"static\" folder before running the Flask app, so everything can work and be displayed properly.\n",
        "\n",
        "* ## Data Sources:\n",
        "  \n",
        "  - ## Movies: https://www.kaggle.com/datasets/rajugc/imdb-movies-dataset-based-on-genre\n",
        "  \n",
        "  - ## TV Shows: https://www.kaggle.com/datasets/payamamanat/imbd-dataset/data\n",
        "  \n",
        "  - ## CSV file was created after cleaning up data (find in files)\n",
        "\n",
        "### Project by: Casey Roosma, Michael Dominguez, Marcela Soriano\n",
        "### Notebook by: Marcela Soriano\n",
        "\n"
      ],
      "metadata": {
        "id": "JjK7D_rIIFts"
      }
    },
    {
      "cell_type": "markdown",
      "source": [
        "## Libraries Required\n",
        "\n"
      ],
      "metadata": {
        "id": "dcsmDobqIp0D"
      }
    },
    {
      "cell_type": "code",
      "source": [
        "!pip install flask-ngrok\n",
        "!pip install flask_bootstrap\n",
        "!pip install spotipy"
      ],
      "metadata": {
        "id": "PnjhBEaQLwN1",
        "colab": {
          "base_uri": "https://localhost:8080/"
        },
        "outputId": "1602fdf3-2e46-4aa2-b231-429df2f5ef07"
      },
      "execution_count": 43,
      "outputs": [
        {
          "output_type": "stream",
          "name": "stdout",
          "text": [
            "Requirement already satisfied: flask-ngrok in /usr/local/lib/python3.10/dist-packages (0.0.25)\n",
            "Requirement already satisfied: Flask>=0.8 in /usr/local/lib/python3.10/dist-packages (from flask-ngrok) (2.2.5)\n",
            "Requirement already satisfied: requests in /usr/local/lib/python3.10/dist-packages (from flask-ngrok) (2.31.0)\n",
            "Requirement already satisfied: Werkzeug>=2.2.2 in /usr/local/lib/python3.10/dist-packages (from Flask>=0.8->flask-ngrok) (3.0.1)\n",
            "Requirement already satisfied: Jinja2>=3.0 in /usr/local/lib/python3.10/dist-packages (from Flask>=0.8->flask-ngrok) (3.1.2)\n",
            "Requirement already satisfied: itsdangerous>=2.0 in /usr/local/lib/python3.10/dist-packages (from Flask>=0.8->flask-ngrok) (2.1.2)\n",
            "Requirement already satisfied: click>=8.0 in /usr/local/lib/python3.10/dist-packages (from Flask>=0.8->flask-ngrok) (8.1.7)\n",
            "Requirement already satisfied: charset-normalizer<4,>=2 in /usr/local/lib/python3.10/dist-packages (from requests->flask-ngrok) (3.3.2)\n",
            "Requirement already satisfied: idna<4,>=2.5 in /usr/local/lib/python3.10/dist-packages (from requests->flask-ngrok) (3.6)\n",
            "Requirement already satisfied: urllib3<3,>=1.21.1 in /usr/local/lib/python3.10/dist-packages (from requests->flask-ngrok) (2.0.7)\n",
            "Requirement already satisfied: certifi>=2017.4.17 in /usr/local/lib/python3.10/dist-packages (from requests->flask-ngrok) (2023.11.17)\n",
            "Requirement already satisfied: MarkupSafe>=2.0 in /usr/local/lib/python3.10/dist-packages (from Jinja2>=3.0->Flask>=0.8->flask-ngrok) (2.1.3)\n",
            "Requirement already satisfied: flask_bootstrap in /usr/local/lib/python3.10/dist-packages (3.3.7.1)\n",
            "Requirement already satisfied: Flask>=0.8 in /usr/local/lib/python3.10/dist-packages (from flask_bootstrap) (2.2.5)\n",
            "Requirement already satisfied: dominate in /usr/local/lib/python3.10/dist-packages (from flask_bootstrap) (2.9.0)\n",
            "Requirement already satisfied: visitor in /usr/local/lib/python3.10/dist-packages (from flask_bootstrap) (0.1.3)\n",
            "Requirement already satisfied: Werkzeug>=2.2.2 in /usr/local/lib/python3.10/dist-packages (from Flask>=0.8->flask_bootstrap) (3.0.1)\n",
            "Requirement already satisfied: Jinja2>=3.0 in /usr/local/lib/python3.10/dist-packages (from Flask>=0.8->flask_bootstrap) (3.1.2)\n",
            "Requirement already satisfied: itsdangerous>=2.0 in /usr/local/lib/python3.10/dist-packages (from Flask>=0.8->flask_bootstrap) (2.1.2)\n",
            "Requirement already satisfied: click>=8.0 in /usr/local/lib/python3.10/dist-packages (from Flask>=0.8->flask_bootstrap) (8.1.7)\n",
            "Requirement already satisfied: MarkupSafe>=2.0 in /usr/local/lib/python3.10/dist-packages (from Jinja2>=3.0->Flask>=0.8->flask_bootstrap) (2.1.3)\n",
            "Requirement already satisfied: spotipy in /usr/local/lib/python3.10/dist-packages (2.23.0)\n",
            "Requirement already satisfied: redis>=3.5.3 in /usr/local/lib/python3.10/dist-packages (from spotipy) (5.0.1)\n",
            "Requirement already satisfied: requests>=2.25.0 in /usr/local/lib/python3.10/dist-packages (from spotipy) (2.31.0)\n",
            "Requirement already satisfied: six>=1.15.0 in /usr/local/lib/python3.10/dist-packages (from spotipy) (1.16.0)\n",
            "Requirement already satisfied: urllib3>=1.26.0 in /usr/local/lib/python3.10/dist-packages (from spotipy) (2.0.7)\n",
            "Requirement already satisfied: async-timeout>=4.0.2 in /usr/local/lib/python3.10/dist-packages (from redis>=3.5.3->spotipy) (4.0.3)\n",
            "Requirement already satisfied: charset-normalizer<4,>=2 in /usr/local/lib/python3.10/dist-packages (from requests>=2.25.0->spotipy) (3.3.2)\n",
            "Requirement already satisfied: idna<4,>=2.5 in /usr/local/lib/python3.10/dist-packages (from requests>=2.25.0->spotipy) (3.6)\n",
            "Requirement already satisfied: certifi>=2017.4.17 in /usr/local/lib/python3.10/dist-packages (from requests>=2.25.0->spotipy) (2023.11.17)\n"
          ]
        }
      ]
    },
    {
      "cell_type": "code",
      "execution_count": 44,
      "metadata": {
        "id": "7CzYV7kDIFE4"
      },
      "outputs": [],
      "source": [
        "from flask_ngrok import run_with_ngrok\n",
        "from google.colab import userdata\n",
        "from flask import Flask, render_template, request, redirect, url_for, session, send_from_directory\n",
        "from flask_bootstrap import Bootstrap\n",
        "from os import environ\n",
        "import spotipy\n",
        "from spotipy.oauth2 import SpotifyOAuth\n",
        "import pandas as pd\n",
        "import random\n",
        "import requests\n",
        "import json\n",
        "import matplotlib\n",
        "matplotlib.use('agg')\n",
        "import matplotlib.pyplot as plt\n",
        "import seaborn as sns\n",
        "from io import BytesIO\n",
        "import os"
      ]
    },
    {
      "cell_type": "markdown",
      "source": [
        "## Flask Setup and Spotify API"
      ],
      "metadata": {
        "id": "FfS0PJe0I090"
      }
    },
    {
      "cell_type": "code",
      "source": [
        "app = Flask(__name__)\n",
        "app.secret_key = userdata.get('SECRET_KEY')\n",
        "\n",
        "bootstrap = Bootstrap(app)\n",
        "\n",
        "genre_count = {}\n",
        "recommended_tvshow = []\n",
        "recommended_movie = []\n",
        "\n",
        "# Add your Spotify API Credentials\n",
        "SPOTIPY_CLIENT_ID = userdata.get('SPOTIPY_CLIENT_ID')\n",
        "SPOTIPY_CLIENT_SECRET = userdata.get('SPOTIPY_CLIENT_SECRET')\n",
        "SPOTIPY_REDIRECT_URI = userdata.get('SPOTIPY_REDIRECT_URI')\n",
        "\n",
        "sp_oauth = SpotifyOAuth(client_id=SPOTIPY_CLIENT_ID,\n",
        "                        client_secret=SPOTIPY_CLIENT_SECRET,\n",
        "                        redirect_uri=SPOTIPY_REDIRECT_URI,\n",
        "                        scope=[\"user-top-read\"])"
      ],
      "metadata": {
        "id": "FpWFu1BOJB7f"
      },
      "execution_count": 45,
      "outputs": []
    },
    {
      "cell_type": "markdown",
      "source": [
        "- ### Flask Application Initialization: The Flask framework is used for initializing the web application, providing a foundation for web page creation and request handling.\n",
        "\n",
        "- ### Session Security Configuration: A secret key for the application is configured, which is crucial for the security of session data in Flask. This key encrypts session cookies and is securely retrieved, indicating an emphasis on maintaining session integrity and security.\n",
        "\n",
        "- ### Bootstrap Integration for UI Enhancement: Integration with Flask-Bootstrap is implemented. Flask-Bootstrap is an extension that facilitates the use of Bootstrap, a front-end framework, for styling web pages. This ensures the user interface is not only aesthetically pleasing but also responsive.\n",
        "\n",
        "- ### Data Structure Utilization: Various data structures, such as dictionaries and lists, are employed for storing and managing data related to music genres, as well as recommended TV shows and movies. This likely plays a significant role in the app's recommendation logic.\n",
        "\n",
        "- ### Spotify API Integration for Music Data: The application is configured to interact with the Spotify API, using Spotify OAuth for secure authentication. This enables the app to access specific Spotify data, like a user's top tracks and artists. The app fetches necessary credentials like the Client ID, Client Secret, and Redirect URI securely, ensuring authenticated and authorized interaction with Spotify.\n",
        "\n",
        "- ### Defined Scope for Spotify Data Access: The scope for the Spotify API is set to \"user-top-read\", granting the app the ability to access a user's top Spotify tracks and artists. This feature is essential for functionalities such as generating personalized music recommendations."
      ],
      "metadata": {
        "id": "5Jd_-LLMTQY5"
      }
    },
    {
      "cell_type": "markdown",
      "source": [
        "## Genre Mapping (Spotify to Movie/TV Show Genre)"
      ],
      "metadata": {
        "id": "e3tISUIqJsw-"
      }
    },
    {
      "cell_type": "code",
      "source": [
        "#Genre Mapping\n",
        "genre_mapping = {\n",
        "    \"Romance\": {\n",
        "        'valence': 0.378617,\n",
        "        'danceability': 0.52972,\n",
        "        'energy': 0.45700999999999986,\n",
        "    },\n",
        "    \"Action\": {\n",
        "        'valence': 0.4782686868686866,\n",
        "        'danceability': 0.610616161616162,\n",
        "        'energy': 0.7276262626262627,\n",
        "    },\n",
        "    \"Comedy\": {\n",
        "        'valence': 0.6791019999999999,\n",
        "        'danceability': 0.6025000000000003,\n",
        "        'energy': 0.754392,\n",
        "    },\n",
        "    \"Science Fiction\": {\n",
        "        'valence': 0.318779,\n",
        "        'danceability': 0.42281799999999997,\n",
        "        'energy': 0.426963,\n",
        "    },\n",
        "    \"Horror\": {\n",
        "        'valence': 0.043389655172413784,\n",
        "        'danceability': 0.2253931034482759,\n",
        "        'energy': 0.20297327586206892,\n",
        "    },\n",
        "    \"Family\": {\n",
        "        'valence': 0.39481,\n",
        "        'danceability': 0.5041180000000001,\n",
        "        'energy': 0.4358320000000002,\n",
        "    },\n",
        "    \"Drama\": {\n",
        "        'valence': 0.27197200000000005,\n",
        "        'danceability': 0.4922300000000001,\n",
        "        'energy': 0.4408099999999998,\n",
        "    },\n",
        "    \"Adventure\": {\n",
        "        'valence': 0.4435835164835165,\n",
        "        'danceability': 0.5584285714285715,\n",
        "        'energy': 0.6459472527472528,\n",
        "    },\n",
        "     \"Thriller\": {\n",
        "        'valence': 0.3606849999999999,\n",
        "        'danceability': 0.5131299999999999,\n",
        "        'energy': 0.5883509999999998,\n",
        "\n",
        "        },\n",
        "     \"Biography\": {\n",
        "        'valence': 0.5983500000000002,\n",
        "        'danceability': 0.60787,\n",
        "        'energy': 0.7006800000000003,\n",
        "        },\n",
        "     \"Crime\": {\n",
        "        'valence': 0.5080319999999997,\n",
        "        'danceability': 0.64384,\n",
        "        'energy': 0.6495099999999999,\n",
        "        },\n",
        "     \"Fantasy\": {\n",
        "        'valence': 0.307479,\n",
        "        'danceability': 0.45702000000000015,\n",
        "        'energy': 0.4734160000000001,\n",
        "        }\n",
        "    }"
      ],
      "metadata": {
        "id": "EEY_YKnHJwM6"
      },
      "execution_count": 46,
      "outputs": []
    },
    {
      "cell_type": "markdown",
      "source": [
        "- ### Valence, danceability and energy are measured by Spotify from 0 to 1.\n",
        "\n",
        "- ### Valence: A measure of musical positivity. Higher valence indicates a happier, more cheerful sound, while lower valence suggests a more sad or melancholic tone.\n",
        "\n",
        "- ### Danceability: Describes how suitable a track is for dancing based on tempo, rhythm stability, beat strength, and overall regularity. Higher danceability scores denote music that's easier to dance to.\n",
        "\n",
        "- ### Energy: A perceptual measure of intensity and activity. Energetic tracks feel fast, loud, and noisy. Higher energy values typically correspond to more intense, lively music.\n",
        "\n",
        "- ### Each movie/TV genre in the mapping (like \"Romance\", \"Action\", \"Comedy\", etc.) has specific values for these audio features, suggesting a correlation between the musical attributes of Spotify tracks and the moods or themes of these genres. This mapping could be used to recommend movies or TV shows based on a user's Spotify listening preferences, with the idea being that certain musical qualities align with specific cinematic genres. For instance, a high valence in a user's music preference might correlate with a preference for \"Comedy\" movies, which are also mapped to high valence."
      ],
      "metadata": {
        "id": "Oz1GWwIATnvn"
      }
    },
    {
      "cell_type": "markdown",
      "source": [
        "## Personalized Statement"
      ],
      "metadata": {
        "id": "oHLOhYraJNMs"
      }
    },
    {
      "cell_type": "code",
      "source": [
        "def generate_personalized_statement(valence, danceability, energy):\n",
        "    # Define custom ranges with two decimal places\n",
        "    valence_ranges = [(0.00, 0.20), (0.20, 0.40), (0.40, 0.60), (0.60, 0.80), (0.80, 1.00)]\n",
        "    danceability_ranges = [(0.00, 0.20), (0.20, 0.40), (0.40, 0.60), (0.60, 0.80), (0.80, 1.00)]\n",
        "    energy_ranges = [(0.00, 0.20), (0.20, 0.40), (0.40, 0.60), (0.60, 0.80), (0.80, 1.00)]\n",
        "\n",
        "    # Initialize statements\n",
        "    valence_statement = \"\"\n",
        "    danceability_statement = \"\"\n",
        "    energy_statement = \"\"\n",
        "\n",
        "    # Check Valence\n",
        "    for lower, upper in valence_ranges:\n",
        "        if lower <= valence <= upper:\n",
        "            if valence < 0.20:\n",
        "                valence_statement = f\"Your valence suggests you've been diving deep into the world of sad music. It's time for some virtual hugs!\"\n",
        "            elif valence < 0.40:\n",
        "                valence_statement = f\"Your valence shows a touch of melancholy. Maybe you're composing the soundtrack of a rainy day?\"\n",
        "            elif valence < 0.60:\n",
        "                valence_statement = f\"Your music falls in the 'not too happy, not too sad' range. A well-balanced playlist for life's adventures!\"\n",
        "            elif valence < 0.80:\n",
        "                valence_statement = f\"Your valence indicates a cheerful and positive music taste. Keep rocking those good vibes!\"\n",
        "            else:\n",
        "                valence_statement = f\"Wow, your valence is off the charts! You must be the life of the party with such happy music!\"\n",
        "\n",
        "    # Check Danceability\n",
        "    for lower, upper in danceability_ranges:\n",
        "        if lower <= danceability <= upper:\n",
        "            if danceability < 0.20:\n",
        "                danceability_statement = f\"Your music is not too dance-friendly. Perhaps it's time to join a dance class online?\"\n",
        "            elif danceability < 0.40:\n",
        "                danceability_statement = f\"Your music is moderately danceable. Time to practice your dance moves!\"\n",
        "            elif danceability < 0.60:\n",
        "                danceability_statement = f\"Your music taste is groovy and dance-friendly. Get ready to dance like nobody's watching!\"\n",
        "            elif danceability < 0.80:\n",
        "                danceability_statement = f\"Your music is super danceable! You're a dance floor legend in the making!\"\n",
        "            else:\n",
        "                danceability_statement = f\"Your music is dance-tastic! You're the life of every dance party!\"\n",
        "\n",
        "    # Check Energy\n",
        "    for lower, upper in energy_ranges:\n",
        "        if lower <= energy <= upper:\n",
        "            if energy < 0.20:\n",
        "                energy_statement = f\"Your music is super calm and passive. Are you in relaxation mode or just taking it easy?\"\n",
        "            elif energy < 0.40:\n",
        "                energy_statement = f\"Your music falls within the range of tranquility. Perfect for peaceful moments!\"\n",
        "            elif energy < 0.60:\n",
        "                energy_statement = f\"Your music is moderately energetic. You're keeping it balanced!\"\n",
        "            elif energy < 0.80:\n",
        "                energy_statement = f\"Your music has a good amount of energy. Ready to tackle the day with enthusiasm!\"\n",
        "            else:\n",
        "                energy_statement = f\"Your music is high-energy and intense! It's like a musical energy drink!\"\n",
        "\n",
        "    # Combine the statements\n",
        "    personalized_statement = valence_statement + \"\\n\" + danceability_statement + \"\\n\" + energy_statement\n",
        "\n",
        "    return personalized_statement"
      ],
      "metadata": {
        "id": "WixfJqxzJZ5_"
      },
      "execution_count": 47,
      "outputs": []
    },
    {
      "cell_type": "markdown",
      "source": [
        "- ### Valence Analysis: The function assesses the valence (a measure of musical mood) of the user's preferred tracks. Depending on where the valence falls within predefined ranges, a statement is generated to describe the emotional tone of the music, ranging from sad and melancholic to happy and upbeat.\n",
        "\n",
        "- ### Danceability Analysis: Similarly, it evaluates the danceability of the music. The danceability score determines whether the user prefers music that's not dance-friendly, moderately danceable, groovy, or highly suitable for dancing.\n",
        "\n",
        "- ### Energy Analysis: The energy level of the music is also analyzed. This results in statements that describe the music's intensity, from calm and passive to energetic and intense.\n",
        "\n",
        "- ### The function combines these individual statements about valence, danceability, and energy into a single, comprehensive statement that provides a holistic description of the user's musical preferences. This personalized statement can be used to enhance user experience, for example, in music recommendation systems or user profile summaries."
      ],
      "metadata": {
        "id": "dDale3K9T_s_"
      }
    },
    {
      "cell_type": "markdown",
      "source": [
        "## Pick Movie with All Genres"
      ],
      "metadata": {
        "id": "gvlnVhXqJa0O"
      }
    },
    {
      "cell_type": "code",
      "source": [
        "#Function to pick movie with all genres\n",
        "def same_genres(genre_choices, genre_csv):\n",
        "    for x in range(len(genre_csv)):\n",
        "        for y in genre_choices:\n",
        "            if y not in genre_csv[x]:\n",
        "                return False\n",
        "    return True"
      ],
      "metadata": {
        "id": "6pF1ZawRJhWb"
      },
      "execution_count": 48,
      "outputs": []
    },
    {
      "cell_type": "markdown",
      "source": [
        "- ### Iterating Through Dataset: The function iterates through each entry in the entertainment.csv dataset. Each entry in this dataset presumably contains information about a particular movie or TV show, including its associated genres.\n",
        "\n",
        "- ### Genre Matching: For each entry in the dataset, the function checks if every genre listed in the user's genre_choices is present. If any genre from genre_choices is not found in the current entry of entertainment.csv, the function immediately returns False, indicating that this entry does not match the complete set of user-preferred genres.\n",
        "\n",
        "- ### Return Value: If the function completes its iteration through the dataset without returning False, it means that there is at least one entry in entertainment.csv that contains all the genres in genre_choices. In this case, the function returns True.\n",
        "\n",
        "- ### The function is a filter mechanism, helping to narrow down a list of movies or TV shows to those that align with the complete range of a user's genre preferences. This is particularly useful in a recommendation system where matching content to user preferences is key."
      ],
      "metadata": {
        "id": "0Bb9I-RyUOJk"
      }
    },
    {
      "cell_type": "markdown",
      "source": [
        "## Index"
      ],
      "metadata": {
        "id": "5kC_slTMJ6nv"
      }
    },
    {
      "cell_type": "code",
      "source": [
        "@app.route('/')\n",
        "def index():\n",
        "    return render_template('index.html')"
      ],
      "metadata": {
        "id": "i9xMc3ALJ7xJ"
      },
      "execution_count": 49,
      "outputs": []
    },
    {
      "cell_type": "markdown",
      "source": [
        "- ### The route and function simply return the rendered HTML content from the index.html template. This means when the root URL is accessed, the Flask app responds by displaying the webpage defined in index.html."
      ],
      "metadata": {
        "id": "BI3CGwNLUo4p"
      }
    },
    {
      "cell_type": "markdown",
      "source": [
        "## Login"
      ],
      "metadata": {
        "id": "w8HEZ9TJJ9rn"
      }
    },
    {
      "cell_type": "code",
      "source": [
        "@app.route('/login')\n",
        "def login():\n",
        "    auth_url = sp_oauth.get_authorize_url()\n",
        "    return render_template('loginpage.html', auth_url=auth_url)"
      ],
      "metadata": {
        "id": "FHidyfB_J-yA"
      },
      "execution_count": 50,
      "outputs": []
    },
    {
      "cell_type": "markdown",
      "source": [
        "- ### Generating Authorization URL: It calls sp_oauth.get_authorize_url() to generate an authorization URL for Spotify's OAuth service. This URL is used to authenticate users and grant your application access to their Spotify data, based on the permissions defined in your OAuth setup.\n",
        "\n",
        "- ### Rendering Login Page: The function then returns a rendered HTML template (loginpage.html), passing the generated auth_url to it. This page likely contains a login mechanism or a link/button which directs the user to the Spotify authentication page using the provided auth_url.\n",
        "\n",
        "- ### The route serves as the entry point for user authentication with Spotify, redirecting them to login via Spotify and authorize your application to access their Spotify data as per the defined scopes."
      ],
      "metadata": {
        "id": "PQdXZhpEU1wo"
      }
    },
    {
      "cell_type": "markdown",
      "source": [
        "## Callback"
      ],
      "metadata": {
        "id": "VenI4HARKA8D"
      }
    },
    {
      "cell_type": "code",
      "source": [
        "@app.route('/callback')\n",
        "def callback():\n",
        "    code = request.args.get('code')\n",
        "    if not code:\n",
        "        # Handle the case where the code is missing\n",
        "        return \"Error: No code provided.\", 400\n",
        "    try:\n",
        "        token_info = sp_oauth.get_access_token(code, check_cache=False)\n",
        "        session['token'] = token_info['access_token']\n",
        "    except Exception as e:\n",
        "        # Log the exception for debugging\n",
        "        print(f\"Error retrieving access token: {e}\")\n",
        "        return \"Error in token retrieval.\", 500\n",
        "\n",
        "    # Initialize the Spotipy client with the access token\n",
        "    global sp\n",
        "    sp = spotipy.Spotify(auth=session['token'])\n",
        "    return render_template('loading.html')"
      ],
      "metadata": {
        "id": "P6UjTI6FKCRw"
      },
      "execution_count": 51,
      "outputs": []
    },
    {
      "cell_type": "markdown",
      "source": [
        "- ### Retrieving Authorization Code: The function starts by attempting to retrieve an authorization code (code) from the query parameters of the request. This code is provided by the Spotify OAuth service after a user successfully logs in and authorizes your application.\n",
        "\n",
        "- ### Handling Missing Code: If the code is not found in the request (indicating an issue in the OAuth flow), the function returns an error message and a 400 HTTP status code, indicating a bad request.\n",
        "\n",
        "- ### Token Retrieval: If the code is present, the function tries to exchange this code for an access token using sp_oauth.get_access_token(code). This access token is necessary for making authenticated requests to Spotify's API.\n",
        "\n",
        "- ### Error Handling: If there's an error during token retrieval, such as a network issue or an invalid code, the function catches the exception, logs it for debugging, and returns an error message with a 500 HTTP status code, indicating a server error.\n",
        "\n",
        "- ### Session Token Storage: Upon successful retrieval, the access token is stored in the Flask session (session['token']). This allows your application to use the token in subsequent requests to the Spotify API.\n",
        "\n",
        "- ### Spotify Client Initialization: The function then initializes the Spotipy client (sp) with the retrieved access token. This client is used for interacting with the Spotify API.\n",
        "\n",
        "- ### Redirecting to Loading Page: Finally, the function renders and returns loading.html, likely a page to inform the user that their request is being processed or to handle further navigational steps.\n",
        "\n",
        "- ### This route is a crucial part of the OAuth process, handling the exchange of the authorization code for an access token and preparing the application for further interactions with the Spotify API."
      ],
      "metadata": {
        "id": "TEmmRk8YVNcf"
      }
    },
    {
      "cell_type": "markdown",
      "source": [
        "## Display History (Top 3 Spotify Genres over past 30 Days)"
      ],
      "metadata": {
        "id": "QMZYEzLcKEtP"
      }
    },
    {
      "cell_type": "code",
      "source": [
        "@app.route('/history')\n",
        "def display_history():\n",
        "    if 'token' not in session:\n",
        "        return redirect(url_for('login'))\n",
        "\n",
        "    sp = spotipy.Spotify(auth=session['token'])\n",
        "\n",
        "    # This function or variable definition should be before its usage.\n",
        "    top_5_genres = sp.current_user_top_artists(limit=5)['items']\n",
        "\n",
        "    current_user = sp.current_user()\n",
        "    # Initialize user_metrics\n",
        "#-------------------------- metrics    -----------------------------------------------------------\n",
        "    #Getting the avergage metrics for the user\n",
        "    user_metrics = {\"valence\": 0, \"danceability\": 0, \"energy\": 0}\n",
        "    data = {'Genre': [], 'Valence': [], 'Danceability': [], 'Energy': [], 'Count': []}\n",
        "\n",
        "    #Getting top artists genres\n",
        "    top_artists = sp.current_user_top_artists(limit=30, time_range=\"short_term\")['items']\n",
        "    count = 0\n",
        "    pre_data = {}\n",
        "\n",
        "    artist_count = 0\n",
        "    while len(pre_data) < 5 and artist_count < len(top_artists):\n",
        "        if len(top_artists[artist_count]['genres']) > 0 and top_artists[artist_count]['genres'][0] not in pre_data:\n",
        "            pre_data[top_artists[artist_count]['genres'][0]] = {'Valence': 0.0, 'Danceability': 0.0, 'Energy': 0.0, 'Count': 0}\n",
        "        artist_count += 1\n",
        "\n",
        "\n",
        "    print(\"DATA::::\", pre_data)\n",
        "    tracks = sp.current_user_top_tracks(time_range='short_term', limit=30)['items']\n",
        "    for track in tracks:\n",
        "        song_id = track['id']\n",
        "        song_metrics = sp.audio_features(song_id)[0]\n",
        "        if song_metrics is not None:\n",
        "            user_metrics[\"valence\"] += song_metrics['valence']\n",
        "            user_metrics[\"danceability\"] += song_metrics['danceability']\n",
        "            user_metrics[\"energy\"] += song_metrics['energy']\n",
        "            count += 1\n",
        "        if len(sp.artist(track['album']['artists'][0]['id'])['genres']) > 0:\n",
        "            artist_gen = sp.artist(track['album']['artists'][0]['id'])['genres'][0]\n",
        "            if artist_gen in pre_data:\n",
        "                pre_data[artist_gen][\"Valence\"] += song_metrics['valence']\n",
        "                pre_data[artist_gen][\"Danceability\"] += song_metrics['danceability']\n",
        "                pre_data[artist_gen][\"Energy\"] += song_metrics['energy']\n",
        "                pre_data[artist_gen][\"Count\"] += 1\n",
        "    if count > 0:\n",
        "        user_metrics[\"valence\"] = user_metrics[\"valence\"] / count\n",
        "        #data['Valence'] = user_metrics[\"valence\"]\n",
        "        user_metrics[\"danceability\"] = user_metrics[\"danceability\"] / count\n",
        "       # data['Danceability'] = user_metrics[\"danceability\"]\n",
        "        user_metrics[\"energy\"] = user_metrics[\"energy\"] / count\n",
        "        #data[\"Energy\"] = user_metrics[\"energy\"]\n",
        "\n",
        "#Now finds which genre is closest to the users metrics\n",
        "    global genre_td\n",
        "    genre_td = {\n",
        "        \"Romance\": {},\n",
        "        \"Action\": {},\n",
        "        \"Comedy\": {},\n",
        "        \"Science Fiction\": {},\n",
        "        \"Horror\": {},\n",
        "        \"Family\": {},\n",
        "        \"Drama\": {},\n",
        "        \"Adventure\": {},\n",
        "        \"Thriller\": {},\n",
        "        \"Biography\": {},\n",
        "        \"Crime\": {},\n",
        "        \"Fantasy\": {}\n",
        "}\n",
        "    global Genre_choice\n",
        "    Genre_choice = []\n",
        "    best_genre = None\n",
        "    best_diff = float('inf')\n",
        "    for genre, genre_metrics in genre_mapping.items():\n",
        "        valence_diff = abs(user_metrics[\"valence\"] - genre_metrics[\"valence\"])\n",
        "        danceability_diff = abs(user_metrics[\"danceability\"] - genre_metrics[\"danceability\"])\n",
        "        energy_diff = abs(user_metrics[\"energy\"] - genre_metrics[\"energy\"])\n",
        "\n",
        "        total_diff = valence_diff + danceability_diff + energy_diff\n",
        "        genre_td[genre] = total_diff\n",
        "\n",
        "        if total_diff <= best_diff:\n",
        "            best_genre = genre\n",
        "            best_diff = total_diff\n",
        "\n",
        "    if best_genre not in Genre_choice:\n",
        "        Genre_choice.append(best_genre)\n",
        "\n",
        "    for genre in genre_td:\n",
        "        if abs(genre_td[genre] - best_diff) <= 0.02:\n",
        "            if genre not in Genre_choice:\n",
        "                Genre_choice.append(genre)\n",
        "\n",
        "    statement = generate_personalized_statement(user_metrics['valence'], user_metrics['danceability'], user_metrics['energy'])\n",
        "    print(statement)\n",
        "#----------------------Adding To The Data-----------------------------------------------\n",
        "\n",
        "    keys_to_delete = [key for key in pre_data if pre_data[key][\"Count\"] == 0]\n",
        "\n",
        "    for key in keys_to_delete:\n",
        "        del pre_data[key]\n",
        "\n",
        "    for x in pre_data:\n",
        "        for y in pre_data[x]:\n",
        "            if y != \"Count\":\n",
        "             pre_data[x][y] = pre_data[x][y]/ pre_data[x]['Count']\n",
        "\n",
        "    for x in pre_data:\n",
        "        data['Genre'].append(x)\n",
        "        for y in pre_data[x]:\n",
        "            if y != \"Count\":\n",
        "                data[y].append(pre_data[x][y])\n",
        "    data['Count'] = count\n",
        "\n",
        "#--------------------MATPLOT-----------------\n",
        "    df = pd.DataFrame(data)\n",
        "    melted_df = df.melt(id_vars=['Genre', 'Count'], value_vars=['Valence', 'Danceability', 'Energy'],\n",
        "                    var_name='Feature', value_name='Average')\n",
        "\n",
        "    # Increase font size globally for the plot\n",
        "    plt.rcParams.update({'font.size': 18})  # Increase the base font size\n",
        "\n",
        "    try:\n",
        "        # Plotting the graph with a larger figure size\n",
        "        plt.figure(figsize=(20, 12))  # Increased figure size\n",
        "        barplot = sns.barplot(x='Genre', y='Average', hue='Feature', data=melted_df, palette=['#1db954', '#191414', '#ababab'])\n",
        "\n",
        "        # Customize the plot with larger font sizes\n",
        "        plt.title('Top 3 Spotify Genres and Audio Features (Last 30 Days)', fontsize=20)  # Increased title font size\n",
        "        plt.ylabel('Average Feature Value', fontsize=18)  # Increased y-axis label font size\n",
        "        plt.xlabel('Genre', fontsize=18)  # Increased x-axis label font size\n",
        "        plt.xticks(rotation=45)\n",
        "        plt.legend(title='Feature', fontsize=18)  # Increased legend font size\n",
        "\n",
        "        # Remove y-axis labels on the left\n",
        "        plt.gca().tick_params(labelleft=False)\n",
        "\n",
        "        # Capitalize the first letter of each genre and annotate values\n",
        "        for p in barplot.patches:\n",
        "            plt.annotate(format(p.get_height(), '.2f'),\n",
        "                     (p.get_x() + p.get_width() / 2., p.get_height()),\n",
        "                     ha = 'center', va = 'center',\n",
        "                     xytext = (0, 9),\n",
        "                     textcoords = 'offset points')\n",
        "\n",
        "        # Update the x-axis labels to capitalize genres and ensure they are unique\n",
        "        unique_genres = melted_df['Genre'].unique()\n",
        "        plt.xticks(range(len(unique_genres)), [label.capitalize() for label in unique_genres])\n",
        "\n",
        "        # Save the plot as a PNG file in a BytesIO object\n",
        "        img = BytesIO()\n",
        "        plt.savefig(img, format='png', bbox_inches='tight')\n",
        "        img.seek(0)  # Rewind the file\n",
        "        plt.clf()  # Clear the figure to free memory\n",
        "\n",
        "        # Save the plot to the 'static' directory\n",
        "        img_path = os.path.join('static', 'user_plot.png')\n",
        "        with open(img_path, 'wb') as f:\n",
        "            f.write(img.getvalue())\n",
        "\n",
        "        # Pass the image path to the template for display\n",
        "    except:\n",
        "        print(\"Error: DataFrame Empty!\")\n",
        "    return render_template('displayhistory.html', img_path=img_path, username=current_user['display_name'], personalized_statement=statement)\n",
        "\n",
        "\n",
        "#--------------------MATPLOT-----------------\n",
        "@app.route('/download_plot')\n",
        "def download_plot():\n",
        "    # Provide a route to download the plot\n",
        "    img_path = os.path.join('static', 'user_plot.png')\n",
        "    return send_from_directory(directory='static', path='user_plot.png', as_attachment=True, download_name='YourSpotifyJourney.png')\n"
      ],
      "metadata": {
        "id": "oDFbJSk1KGSo"
      },
      "execution_count": 52,
      "outputs": []
    },
    {
      "cell_type": "markdown",
      "source": [
        "- ### Token Verification: Checks if the Spotify access token is present in the session. If not, it redirects the user to the login page for authentication.\n",
        "\n",
        "- ### Spotify API Interaction: Uses the access token to create a Spotify client and fetches the current user's top artists and tracks. This data is used to analyze the user's music preferences.\n",
        "\n",
        "- ### Data Aggregation: The function collects various metrics like valence, danceability, and energy from the user's top tracks. These metrics are averaged to represent the user's overall music taste.\n",
        "\n",
        "- ### Genre Analysis: It also analyzes the genres associated with the top tracks and artists, contributing to a more nuanced understanding of the user's preferences.\n",
        "\n",
        "- ### Genre-to-Mood Mapping: The function compares these metrics against predefined genre profiles to determine which genres closely match the user's listening habits.\n",
        "\n",
        "- ### Personalized Statement Generation: A personalized statement is created based on the user's musical metrics, providing a narrative summary of their music taste.\n",
        "\n",
        "- ### Data Visualization: The aggregated data is visualized in a bar plot using Matplotlib and Seaborn, showcasing the average values of audio features across different genres.\n",
        "\n",
        "- ### Rendering the Result: Finally, the route renders displayhistory.html, passing the path to the generated plot and other user-specific data. This displays a comprehensive history and analysis of the user's music preferences.\n",
        "\n",
        "- ### Additionally, a /download_plot route is provided, enabling users to download the generated plot as a PNG file, enhancing the interactive experience of the application."
      ],
      "metadata": {
        "id": "ATrUXll6Y1Hd"
      }
    },
    {
      "cell_type": "markdown",
      "source": [
        "## Movie/TV Show Recommendation"
      ],
      "metadata": {
        "id": "VsP85Xz8KPSc"
      }
    },
    {
      "cell_type": "code",
      "source": [
        "@app.route('/recommendation', methods=['GET', 'POST'])\n",
        "def recommendation():\n",
        "    choice = \"\"\n",
        "    token = session.get('token')\n",
        "    if not token:\n",
        "        return redirect(url_for('login'))\n",
        "\n",
        "    #User picks which media they want and we find the reccomended movie\n",
        "    if request.method == 'POST':\n",
        "        choice = request.form.get('choice')\n",
        "        df = pd.read_csv('entertainment.csv')\n",
        "        df_filtered = \"\"\n",
        "        if choice == \"movie\":\n",
        "            if len(Genre_choice) > 1:\n",
        "                df_filtered = df[df['genres'].notna() & (df['media'] == \"movie\")]\n",
        "                for gen in Genre_choice:\n",
        "                    df_filtered = df_filtered[(df_filtered['genres'].str.contains(gen))]\n",
        "                if len(df_filtered[df_filtered['genres'].str.count(',') + 1 == len(Genre_choice)]) > 1:\n",
        "                    df_filtered = df_filtered[df_filtered['genres'].str.count(',') + 1 == len(Genre_choice)]\n",
        "            if len(df_filtered) == 0 or len(Genre_choice) == 1:\n",
        "                df_filtered = df[df['genres'].notna() & (df['media'] == \"movie\") & df['genres'].str.contains(Genre_choice[0])]\n",
        "            recommended_movie = df_filtered.sample().iloc[0]\n",
        "            return render_template('displayrecommendation.html', recommended_movie=recommended_movie, choice=choice, genre_choice=Genre_choice[0])\n",
        "        elif choice == \"tvshow\":\n",
        "            if len(Genre_choice) > 1:\n",
        "                df_filtered = df[df['genres'].notna() & (df['media'] == \"tv\")]\n",
        "                for gen in Genre_choice:\n",
        "                    df_filtered = df_filtered[(df_filtered['genres'].str.contains(gen))]\n",
        "            if len(df_filtered) == 0 or len(Genre_choice) == 1:\n",
        "                df_filtered = df[df['genres'].notna() & (df['media'] == \"tv\") & df['genres'].str.contains(Genre_choice[0])]\n",
        "            recommended_show = df_filtered.sample().iloc[0]\n",
        "            return render_template('displayrecommendation.html', recommended_show=recommended_show, choice=choice)\n",
        "    return render_template('displayrecommendation.html', choice=choice)"
      ],
      "metadata": {
        "id": "S5L_iu8XKcNR"
      },
      "execution_count": 53,
      "outputs": []
    },
    {
      "cell_type": "markdown",
      "source": [
        "- ### Token Verification: Initially, the function checks if a Spotify access token exists in the session. If not, it redirects the user to the login page for authentication.\n",
        "\n",
        "- ### Handling GET and POST Requests: This route supports both GET and POST methods. The GET method displays the recommendation page, while the POST method is used when the user submits their choice.\n",
        "\n",
        "- ### User's Choice Processing: When a POST request is made (indicating the user has made a choice between 'movie' or 'tvshow'), the function fetches this choice from the form data.\n",
        "\n",
        "- ### Data Filtering for Recommendations: The application reads from a dataset (entertainment.csv), which contains information about various movies and TV shows. Based on the user's choice and their preferred genres (stored in Genre_choice), it filters this dataset to find matching media.\n",
        "\n",
        "- ### If the user chooses \"movie\", it filters the dataset for movies matching the user's genre preferences.\n",
        "- ### If \"tvshow\" is chosen, it similarly filters for TV shows.\n",
        "- ### Random Recommendation Selection: From the filtered list, a random movie or TV show is selected as the recommendation.\n",
        "\n",
        "- ### Rendering the Recommendation: Finally, the function renders displayrecommendation.html, passing details of the recommended movie or TV show, along with the user's initial choice.\n",
        "\n",
        "- ### This route essentially bridges the user's music taste with film and TV content, suggesting visual entertainment options that align with their auditory preferences."
      ],
      "metadata": {
        "id": "64_TNBvEZmNG"
      }
    },
    {
      "cell_type": "markdown",
      "source": [
        "## Run Flask App"
      ],
      "metadata": {
        "id": "3T2aPI6fKdOa"
      }
    },
    {
      "cell_type": "code",
      "source": [
        "run_with_ngrok(app)  # Start ngrok when the app is run\n",
        "app.run()"
      ],
      "metadata": {
        "colab": {
          "base_uri": "https://localhost:8080/"
        },
        "id": "ja2VZDD8KezJ",
        "outputId": "a0eedf2c-a5bd-4f82-cbae-cf67c0ee0edb"
      },
      "execution_count": 40,
      "outputs": [
        {
          "metadata": {
            "tags": null
          },
          "name": "stdout",
          "output_type": "stream",
          "text": [
            " * Serving Flask app '__main__'\n",
            " * Debug mode: off\n"
          ]
        },
        {
          "metadata": {
            "tags": null
          },
          "name": "stderr",
          "output_type": "stream",
          "text": [
            "INFO:werkzeug:\u001b[31m\u001b[1mWARNING: This is a development server. Do not use it in a production deployment. Use a production WSGI server instead.\u001b[0m\n",
            " * Running on http://127.0.0.1:5000\n",
            "INFO:werkzeug:\u001b[33mPress CTRL+C to quit\u001b[0m\n"
          ]
        },
        {
          "metadata": {
            "tags": null
          },
          "name": "stdout",
          "output_type": "stream",
          "text": [
            " * Running on http://095e-34-29-196-84.ngrok.io\n",
            " * Traffic stats available on http://127.0.0.1:4040\n"
          ]
        }
      ]
    },
    {
      "cell_type": "markdown",
      "source": [
        "- ### Click + CTRL on '*Running on http://127.0.0.1:500' to run Flask app effectively.\n",
        "- ### Make sure to download \"satic\" folder and entertainment.csv file to make sure Watchify runs on your local host."
      ],
      "metadata": {
        "id": "UM6fFlfMZ39v"
      }
    }
  ]
}